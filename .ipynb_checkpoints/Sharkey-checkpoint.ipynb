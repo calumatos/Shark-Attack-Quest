{
 "cells": [
  {
   "cell_type": "code",
   "execution_count": null,
   "id": "2a462c13",
   "metadata": {},
   "outputs": [],
   "source": [
    "#%load_ext autoreload    #### it has to appear on top of our code\n",
    "#%autoreload 2\n",
    "\n",
    "import pandas as pd\n",
    "import seaborn as sns\n",
    "import matplotlib.pyplot as plt\n",
    "url = 'https://raw.githubusercontent.com/yveness7/IronHackIvet/main/Week_2/sharkattack!/sharks.csv'\n",
    "sharks_df = pd.read_csv(url)"
   ]
  },
  {
   "cell_type": "code",
   "execution_count": null,
   "id": "f74db91a",
   "metadata": {},
   "outputs": [],
   "source": [
    "# importing the functions\n",
    "import functions\n",
    "\n",
    "functions.cleaning()\n",
    "functions.display()"
   ]
  }
 ],
 "metadata": {
  "kernelspec": {
   "display_name": "Python 3 (ipykernel)",
   "language": "python",
   "name": "python3"
  },
  "language_info": {
   "codemirror_mode": {
    "name": "ipython",
    "version": 3
   },
   "file_extension": ".py",
   "mimetype": "text/x-python",
   "name": "python",
   "nbconvert_exporter": "python",
   "pygments_lexer": "ipython3",
   "version": "3.11.5"
  }
 },
 "nbformat": 4,
 "nbformat_minor": 5
}
